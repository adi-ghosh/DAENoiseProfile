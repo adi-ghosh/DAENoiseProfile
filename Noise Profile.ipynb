{
 "cells": [
  {
   "cell_type": "markdown",
   "metadata": {},
   "source": [
    "# Project for Generative AI\n",
    "## Comparing effect of DAE on Noise Profiles\n",
    "## Adi Ghosh and Zahra Rahmani"
   ]
  },
  {
   "cell_type": "markdown",
   "metadata": {},
   "source": [
    "### Load Library files"
   ]
  },
  {
   "cell_type": "code",
   "execution_count": null,
   "metadata": {},
   "outputs": [],
   "source": [
    "import numpy \n",
    "import matplotlib.pyplot as plt\n",
    "from keras.models import Sequential\n",
    "from keras.layers import Dense\n",
    "from keras.datasets import mnist, .fashion_mnist, cifar10"
   ]
  },
  {
   "cell_type": "markdown",
   "metadata": {},
   "source": [
    "## MNIST"
   ]
  },
  {
   "cell_type": "markdown",
   "metadata": {},
   "source": [
    "### Load Image Data"
   ]
  },
  {
   "cell_type": "code",
   "execution_count": null,
   "metadata": {},
   "outputs": [],
   "source": [
    "(MNIST_X_train, MNIST_y_train), (MNIST_X_test, MNIST_y_test) = mnist.load_data()"
   ]
  },
  {
   "cell_type": "markdown",
   "metadata": {},
   "source": [
    "### Formatting Image Data"
   ]
  },
  {
   "cell_type": "code",
   "execution_count": null,
   "metadata": {},
   "outputs": [],
   "source": [
    "plt.subplot(221)\n",
    "plt.imshow(MNIST_X_train[0], cmap=plt.get_cmap('gray'))\n",
    "plt.subplot(222)\n",
    "plt.imshow(MNIST_X_train[1], cmap=plt.get_cmap('gray'))\n",
    "plt.subplot(223)\n",
    "plt.imshow(MNIST_X_train[2], cmap=plt.get_cmap('gray'))\n",
    "plt.subplot(224)\n",
    "plt.imshow(MNIST_X_train[3], cmap=plt.get_cmap('gray'))\n",
    "# show the plot\n",
    "plt.show()\n",
    "num_pixels = MNIST_X_train.shape[1] * MNIST_X_train.shape[2]\n",
    "MNIST_X_train = MNIST_X_train.reshape(MNIST_X_train.shape[0], num_pixels).astype('float32')\n",
    "MNIST_X_test = MNIST_X_test.reshape(MNIST_X_test.shape[0], num_pixels).astype('float32')\n",
    "MNIST_X_train = MNIST_X_train / 255\n",
    "MNIST_X_test = MNIST_X_test / 255"
   ]
  },
  {
   "cell_type": "markdown",
   "metadata": {},
   "source": [
    "### Add Noise to Image"
   ]
  },
  {
   "cell_type": "code",
   "execution_count": null,
   "metadata": {},
   "outputs": [],
   "source": [
    "noise_factor = 0.2\n",
    "MNIST_x_train_noisy = MNIST_X_train + noise_factor * numpy.random.normal(loc=0.0, scale=1.0, size=MNIST_X_train.shape)\n",
    "MNIST_x_test_noisy = MNIST_X_test + noise_factor * numpy.random.normal(loc=0.0, scale=1.0, size=MNIST_X_test.shape)\n",
    "MNIST_x_train_noisy = numpy.clip(MNIST_x_train_noisy, 0., 1.)\n",
    "MNIST_x_test_noisy = numpy.clip(MNIST_x_test_noisy, 0., 1.)"
   ]
  }
 ],
 "metadata": {
  "language_info": {
   "name": "python"
  }
 },
 "nbformat": 4,
 "nbformat_minor": 2
}
